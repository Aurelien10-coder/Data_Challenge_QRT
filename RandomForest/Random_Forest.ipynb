{
 "cells": [
  {
   "cell_type": "code",
   "execution_count": 1,
   "metadata": {},
   "outputs": [],
   "source": [
    "import pandas as pd \n",
    "import numpy as np \n",
    "\n",
    "from sklearn.model_selection import train_test_split\n",
    "from sklearn.ensemble import RandomForestClassifier\n",
    "from sklearn.metrics import accuracy_score, confusion_matrix, classification_report\n",
    "\n",
    "\n",
    "pd.set_option('display.max_columns',None)\n",
    "\n"
   ]
  },
  {
   "cell_type": "code",
   "execution_count": 2,
   "metadata": {},
   "outputs": [],
   "source": [
    "df_home=pd.read_csv('/Users/aurelientarroux/Desktop/Data_Challenge_QRT/Data/Train_Data/train_home_team_statistics_df.csv')\n",
    "df_away=pd.read_csv('/Users/aurelientarroux/Desktop/Data_Challenge_QRT/Data/Train_Data/train_away_team_statistics_df.csv')\n",
    "\n",
    "df_home.columns='home_'+df_home.columns\n",
    "df_away.columns='away_'+df_away.columns\n",
    "\n",
    "df_result=pd.read_csv('/Users/aurelientarroux/Desktop/Data_Challenge_QRT/Data/Y_train_1rknArQ.csv')\n"
   ]
  },
  {
   "cell_type": "code",
   "execution_count": 3,
   "metadata": {},
   "outputs": [],
   "source": [
    "base_match=pd.merge(df_home,df_away,left_on=\"home_ID\",right_on='away_ID',how='inner')\n",
    "base=pd.merge(base_match,df_result,left_on=\"home_ID\",right_on='ID',how='inner')\n",
    "base=base.drop(['home_ID','home_LEAGUE','home_TEAM_NAME','away_ID','away_LEAGUE','away_TEAM_NAME'],axis=1)\n"
   ]
  },
  {
   "cell_type": "code",
   "execution_count": 4,
   "metadata": {},
   "outputs": [
    {
     "name": "stdout",
     "output_type": "stream",
     "text": [
      "AWAY\n"
     ]
    }
   ],
   "source": [
    "def resultat(row):\n",
    "    if row['HOME_WINS']==1:\n",
    "        return 'HOME'\n",
    "    elif row['AWAY_WINS']==1:\n",
    "        return 'AWAY'\n",
    "    else:\n",
    "        return 'DRAW'\n",
    "\n",
    "base['Resultat']=base.apply(resultat, axis=1)\n",
    "print(resultat(base.iloc[0]))\n",
    "base=base.drop(['HOME_WINS','AWAY_WINS','DRAW'],axis=1)\n",
    "\n"
   ]
  },
  {
   "cell_type": "code",
   "execution_count": 5,
   "metadata": {},
   "outputs": [],
   "source": [
    "base.dropna(inplace=True)"
   ]
  },
  {
   "cell_type": "code",
   "execution_count": 6,
   "metadata": {},
   "outputs": [
    {
     "name": "stdout",
     "output_type": "stream",
     "text": [
      "0.500302480338778\n",
      "              precision    recall  f1-score   support\n",
      "\n",
      "        AWAY       0.49      0.43      0.46       520\n",
      "        DRAW       0.30      0.08      0.12       416\n",
      "        HOME       0.52      0.79      0.63       717\n",
      "\n",
      "    accuracy                           0.50      1653\n",
      "   macro avg       0.44      0.43      0.40      1653\n",
      "weighted avg       0.46      0.50      0.45      1653\n",
      "\n",
      "[[225  34 261]\n",
      " [127  32 257]\n",
      " [108  39 570]]\n"
     ]
    }
   ],
   "source": [
    "X = base.drop(['Resultat','ID'],axis=1)\n",
    "y = base['Resultat']\n",
    "\n",
    "X_train, X_test, y_train, y_test = train_test_split(X, y, test_size=0.2, random_state=42)\n",
    "\n",
    "clf = RandomForestClassifier(n_estimators=100, random_state=42)\n",
    "clf.fit(X_train, y_train)\n",
    "y_pred = clf.predict(X_test)\n",
    "\n",
    "accuracy = accuracy_score(y_test, y_pred)\n",
    "print(accuracy)\n",
    "\n",
    "print(classification_report(y_test, y_pred))\n",
    "\n",
    "print(confusion_matrix(y_test, y_pred))"
   ]
  }
 ],
 "metadata": {
  "kernelspec": {
   "display_name": "Python 3",
   "language": "python",
   "name": "python3"
  },
  "language_info": {
   "codemirror_mode": {
    "name": "ipython",
    "version": 3
   },
   "file_extension": ".py",
   "mimetype": "text/x-python",
   "name": "python",
   "nbconvert_exporter": "python",
   "pygments_lexer": "ipython3",
   "version": "3.12.5"
  }
 },
 "nbformat": 4,
 "nbformat_minor": 2
}
