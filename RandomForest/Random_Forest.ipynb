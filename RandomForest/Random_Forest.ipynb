{
 "cells": [
  {
   "cell_type": "code",
   "execution_count": null,
   "metadata": {},
   "outputs": [],
   "source": [
    "import pandas as pd \n",
    "import numpy as np \n",
    "\n",
    "from sklearn.model_selection import train_test_split\n",
    "from sklearn.ensemble import RandomForestClassifier\n",
    "from sklearn.metrics import accuracy_score, confusion_matrix, classification_report\n",
    "\n",
    "\n",
    "pd.set_option('display.max_columns',None)\n",
    "\n"
   ]
  },
  {
   "cell_type": "code",
   "execution_count": null,
   "metadata": {},
   "outputs": [],
   "source": [
    "df_home=pd.read_csv('/Users/aurelientarroux/Desktop/Projet_prog/Projet_1/Data/Train_Data/train_home_team_statistics_df.csv')\n",
    "df_away=pd.read_csv('/Users/aurelientarroux/Desktop/Projet_prog/Projet_1/Data/Train_Data/train_away_team_statistics_df.csv')\n",
    "\n",
    "df_home.columns='home_'+df_home.columns\n",
    "df_away.columns='away_'+df_away.columns\n",
    "\n",
    "df_result=pd.read_csv('/Users/aurelientarroux/Desktop/Projet_prog/Projet_1/Data/Y_train_1rknArQ.csv')\n"
   ]
  },
  {
   "cell_type": "code",
   "execution_count": null,
   "metadata": {},
   "outputs": [],
   "source": [
    "base_match=pd.merge(df_home,df_away,left_on=\"home_ID\",right_on='away_ID',how='inner')\n",
    "base=pd.merge(base_match,df_result,left_on=\"home_ID\",right_on='ID',how='inner')\n",
    "base=base.drop(['home_ID','home_LEAGUE','home_TEAM_NAME','away_ID','away_LEAGUE','away_TEAM_NAME'],axis=1)\n"
   ]
  },
  {
   "cell_type": "code",
   "execution_count": null,
   "metadata": {},
   "outputs": [],
   "source": [
    "def resultat(row):\n",
    "    if row['HOME_WINS']==1:\n",
    "        return 'HOME'\n",
    "    elif row['AWAY_WINS']==1:\n",
    "        return 'AWAY'\n",
    "    else:\n",
    "        return 'DRAW'\n",
    "\n",
    "base['Resultat']=base.apply(resultat, axis=1)\n",
    "print(resultat(base.iloc[0]))\n",
    "base=base.drop(['HOME_WINS','AWAY_WINS','DRAW'],axis=1)\n",
    "\n",
    "base.dropna(inplace=True)\n",
    "\n",
    "X = base.drop(['Resultat','ID'],axis=1)\n",
    "y = base['Resultat']\n",
    "\n",
    "X_train, X_test, y_train, y_test = train_test_split(X, y, test_size=0.2, random_state=42)\n"
   ]
  },
  {
   "cell_type": "code",
   "execution_count": null,
   "metadata": {},
   "outputs": [],
   "source": [
    "liste=[]\n",
    "\n",
    "for k in range(50,250):\n",
    "    clf = RandomForestClassifier(n_estimators=k, random_state=42)\n",
    "    clf.fit(X_train, y_train)\n",
    "    y_pred = clf.predict(X_test)\n",
    "    accuracy = accuracy_score(y_test, y_pred)\n",
    "    liste+=[[k,accuracy]]\n",
    "    print([k,accuracy])\n",
    "\n",
    "liste.sort(key=lambda x: x[1])  \n"
   ]
  },
  {
   "cell_type": "code",
   "execution_count": null,
   "metadata": {},
   "outputs": [],
   "source": [
    "max_accuracy=liste[0][0]\n",
    "\n",
    "clf = RandomForestClassifier(n_estimators=k, random_state=42)\n",
    "clf.fit(X_train, y_train)\n",
    "y_pred = clf.predict(X_test)\n",
    "\n",
    "print(accuracy_score(y_test, y_pred))\n",
    "print(classification_report(y_test, y_pred))\n",
    "print(confusion_matrix(y_test, y_pred))"
   ]
  }
 ],
 "metadata": {
  "kernelspec": {
   "display_name": "Python 3",
   "language": "python",
   "name": "python3"
  },
  "language_info": {
   "codemirror_mode": {
    "name": "ipython",
    "version": 3
   },
   "file_extension": ".py",
   "mimetype": "text/x-python",
   "name": "python",
   "nbconvert_exporter": "python",
   "pygments_lexer": "ipython3",
   "version": "3.12.5"
  }
 },
 "nbformat": 4,
 "nbformat_minor": 2
}
