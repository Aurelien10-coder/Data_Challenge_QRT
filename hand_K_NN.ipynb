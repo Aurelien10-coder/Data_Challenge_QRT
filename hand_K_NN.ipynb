{
 "cells": [
  {
   "cell_type": "code",
   "execution_count": null,
   "metadata": {},
   "outputs": [],
   "source": [
    "import pandas as pd \n",
    "import numpy as np \n",
    "from collections import Counter\n",
    "from sklearn.model_selection import train_test_split\n",
    "from sklearn.preprocessing import StandardScaler\n",
    "\n",
    "pd.set_option('display.max_columns',None)"
   ]
  },
  {
   "cell_type": "code",
   "execution_count": null,
   "metadata": {},
   "outputs": [],
   "source": [
    "df_home=pd.read_csv('/Users/aurelientarroux/Desktop/Projet_prog/Projet_1/Data/Train_Data/train_home_team_statistics_df.csv')\n",
    "df_away=pd.read_csv('/Users/aurelientarroux/Desktop/Projet_prog/Projet_1/Data/Train_Data/train_away_team_statistics_df.csv')\n",
    "\n",
    "df_home.columns='home_'+df_home.columns\n",
    "df_away.columns='away_'+df_away.columns\n",
    "\n",
    "df_result=pd.read_csv('/Users/aurelientarroux/Desktop/Projet_prog/Projet_1/Data/Y_train_1rknArQ.csv')\n",
    "\n"
   ]
  },
  {
   "cell_type": "code",
   "execution_count": null,
   "metadata": {},
   "outputs": [],
   "source": [
    "base_match=pd.merge(df_home,df_away,left_on=\"home_ID\",right_on='away_ID',how='inner')\n",
    "\n",
    "base=pd.merge(base_match,df_result,left_on=\"home_ID\",right_on='ID',how='inner')\n",
    "\n",
    "base=base.drop(['home_ID','home_LEAGUE','home_TEAM_NAME','away_ID','away_LEAGUE','away_TEAM_NAME'],axis=1)\n",
    "\n",
    "base.dropna(inplace=True)"
   ]
  },
  {
   "cell_type": "code",
   "execution_count": null,
   "metadata": {},
   "outputs": [],
   "source": [
    "def resultat(row):\n",
    "    if row['HOME_WINS']==1:\n",
    "        return 'HOME'\n",
    "    elif row['AWAY_WINS']==1:\n",
    "        return 'AWAY'\n",
    "    else:\n",
    "        return 'DRAW'\n",
    "\n",
    "base['Resultat']=base.apply(resultat, axis=1)\n",
    "\n",
    "base=base.drop(['HOME_WINS','AWAY_WINS','DRAW'],axis=1)\n"
   ]
  },
  {
   "cell_type": "code",
   "execution_count": null,
   "metadata": {},
   "outputs": [],
   "source": [
    "X = base.drop(['ID'],axis=1)\n",
    "\n",
    "train, test = train_test_split(X, test_size=0.2, random_state=42)\n",
    "\n",
    "scaler = StandardScaler()\n",
    "scaler.fit(train.iloc[:,0:279])\n",
    "train.iloc[:,0:279] = scaler.transform(train.iloc[:,0:279])\n",
    "test.iloc[:,0:279]= scaler.transform(test.iloc[:,0:279])"
   ]
  },
  {
   "cell_type": "code",
   "execution_count": null,
   "metadata": {},
   "outputs": [],
   "source": [
    "def distance(num_ligne_train,num_ligne_test):\n",
    "    distance=0\n",
    "    for k in range(179):\n",
    "        distance+= ( train.iloc[num_ligne_train,k] - test.iloc[num_ligne_test,k] )**2\n",
    "    return np.sqrt(distance)\n"
   ]
  },
  {
   "cell_type": "code",
   "execution_count": null,
   "metadata": {},
   "outputs": [],
   "source": [
    "K_NN=int(np.sqrt(len(train)))\n",
    "\n",
    "compte_juste=0\n",
    "compte=0\n",
    "\n",
    "for k in range(len(test)):\n",
    "    \n",
    "    list_distance=[]\n",
    "    for i in range(len(train)):\n",
    "        list_distance+=[[distance(i,k),train.iloc[i,280]]]\n",
    "    list_distance.sort(key=lambda x:x[0])\n",
    "            \n",
    "    list_class=[]\n",
    "    for j in range(K_NN):\n",
    "        list_class+=[list_distance[j][1]]\n",
    "    element_plus_frequent = max(list_class, key=list_class.count)\n",
    "    \n",
    "    compte+=1\n",
    "    if test.iloc[k,280]==element_plus_frequent:\n",
    "        compte_juste+=1\n",
    "    \n",
    "    print(test.iloc[k,280],element_plus_frequent )\n",
    "    print(compte_juste/compte)\n",
    "\n"
   ]
  }
 ],
 "metadata": {
  "kernelspec": {
   "display_name": "Python 3",
   "language": "python",
   "name": "python3"
  },
  "language_info": {
   "codemirror_mode": {
    "name": "ipython",
    "version": 3
   },
   "file_extension": ".py",
   "mimetype": "text/x-python",
   "name": "python",
   "nbconvert_exporter": "python",
   "pygments_lexer": "ipython3",
   "version": "3.12.5"
  }
 },
 "nbformat": 4,
 "nbformat_minor": 2
}
