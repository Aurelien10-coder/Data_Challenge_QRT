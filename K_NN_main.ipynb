{
 "cells": [
  {
   "cell_type": "code",
   "execution_count": 1,
   "metadata": {},
   "outputs": [],
   "source": [
    "import pandas as pd \n",
    "import numpy as np \n",
    "from collections import Counter\n",
    "from sklearn.model_selection import train_test_split\n",
    "from sklearn.preprocessing import StandardScaler\n",
    "\n",
    "pd.set_option('display.max_columns',None)"
   ]
  },
  {
   "cell_type": "code",
   "execution_count": 2,
   "metadata": {},
   "outputs": [],
   "source": [
    "df_home=pd.read_csv('/Users/aurelientarroux/Desktop/Data_Challenge_QRT/Data/Train_Data/train_home_team_statistics_df.csv')\n",
    "df_away=pd.read_csv('/Users/aurelientarroux/Desktop/Data_Challenge_QRT/Data/Train_Data/train_away_team_statistics_df.csv')\n",
    "\n",
    "df_home.columns='home_'+df_home.columns\n",
    "df_away.columns='away_'+df_away.columns\n",
    "\n",
    "df_result=pd.read_csv('/Users/aurelientarroux/Desktop/Data_Challenge_QRT/Data/Y_train_1rknArQ.csv')\n",
    "\n"
   ]
  },
  {
   "cell_type": "code",
   "execution_count": 3,
   "metadata": {},
   "outputs": [],
   "source": [
    "base_match=pd.merge(df_home,df_away,left_on=\"home_ID\",right_on='away_ID',how='inner')\n",
    "\n",
    "base=pd.merge(base_match,df_result,left_on=\"home_ID\",right_on='ID',how='inner')\n",
    "\n",
    "base=base.drop(['home_ID','home_LEAGUE','home_TEAM_NAME','away_ID','away_LEAGUE','away_TEAM_NAME'],axis=1)\n",
    "\n",
    "base.dropna(inplace=True)"
   ]
  },
  {
   "cell_type": "code",
   "execution_count": 4,
   "metadata": {},
   "outputs": [],
   "source": [
    "def resultat(row):\n",
    "    if row['HOME_WINS']==1:\n",
    "        return 'HOME'\n",
    "    elif row['AWAY_WINS']==1:\n",
    "        return 'AWAY'\n",
    "    else:\n",
    "        return 'DRAW'\n",
    "\n",
    "base['Resultat']=base.apply(resultat, axis=1)\n",
    "\n",
    "base=base.drop(['HOME_WINS','AWAY_WINS','DRAW'],axis=1)\n"
   ]
  },
  {
   "cell_type": "code",
   "execution_count": 5,
   "metadata": {},
   "outputs": [],
   "source": [
    "X = base.drop(['ID'],axis=1)\n",
    "\n",
    "train, test = train_test_split(X, test_size=0.2, random_state=42)\n",
    "\n",
    "scaler = StandardScaler()\n",
    "scaler.fit(train.iloc[:,0:279])\n",
    "train.iloc[:,0:279] = scaler.transform(train.iloc[:,0:279])\n",
    "test.iloc[:,0:279]= scaler.transform(test.iloc[:,0:279])"
   ]
  },
  {
   "cell_type": "code",
   "execution_count": 6,
   "metadata": {},
   "outputs": [],
   "source": [
    "def distance(num_ligne_train,num_ligne_test):\n",
    "    distance=0\n",
    "    for k in range(179):\n",
    "        distance+= ( train.iloc[num_ligne_train,k] - test.iloc[num_ligne_test,k] )**2\n",
    "    return np.sqrt(distance)\n"
   ]
  },
  {
   "cell_type": "code",
   "execution_count": 7,
   "metadata": {},
   "outputs": [
    {
     "ename": "KeyboardInterrupt",
     "evalue": "",
     "output_type": "error",
     "traceback": [
      "\u001b[0;31m---------------------------------------------------------------------------\u001b[0m",
      "\u001b[0;31mKeyboardInterrupt\u001b[0m                         Traceback (most recent call last)",
      "Cell \u001b[0;32mIn[7], line 10\u001b[0m\n\u001b[1;32m      8\u001b[0m list_distance\u001b[38;5;241m=\u001b[39m[]\n\u001b[1;32m      9\u001b[0m \u001b[38;5;28;01mfor\u001b[39;00m i \u001b[38;5;129;01min\u001b[39;00m \u001b[38;5;28mrange\u001b[39m(\u001b[38;5;28mlen\u001b[39m(train)):\n\u001b[0;32m---> 10\u001b[0m     list_distance\u001b[38;5;241m+\u001b[39m\u001b[38;5;241m=\u001b[39m[[\u001b[43mdistance\u001b[49m\u001b[43m(\u001b[49m\u001b[43mi\u001b[49m\u001b[43m,\u001b[49m\u001b[43mk\u001b[49m\u001b[43m)\u001b[49m,train\u001b[38;5;241m.\u001b[39miloc[i,\u001b[38;5;241m280\u001b[39m]]]\n\u001b[1;32m     11\u001b[0m list_distance\u001b[38;5;241m.\u001b[39msort(key\u001b[38;5;241m=\u001b[39m\u001b[38;5;28;01mlambda\u001b[39;00m x:x[\u001b[38;5;241m0\u001b[39m])\n\u001b[1;32m     13\u001b[0m list_class\u001b[38;5;241m=\u001b[39m[]\n",
      "Cell \u001b[0;32mIn[6], line 4\u001b[0m, in \u001b[0;36mdistance\u001b[0;34m(num_ligne_train, num_ligne_test)\u001b[0m\n\u001b[1;32m      2\u001b[0m distance\u001b[38;5;241m=\u001b[39m\u001b[38;5;241m0\u001b[39m\n\u001b[1;32m      3\u001b[0m \u001b[38;5;28;01mfor\u001b[39;00m k \u001b[38;5;129;01min\u001b[39;00m \u001b[38;5;28mrange\u001b[39m(\u001b[38;5;241m179\u001b[39m):\n\u001b[0;32m----> 4\u001b[0m     distance\u001b[38;5;241m+\u001b[39m\u001b[38;5;241m=\u001b[39m ( \u001b[43mtrain\u001b[49m\u001b[38;5;241;43m.\u001b[39;49m\u001b[43miloc\u001b[49m\u001b[43m[\u001b[49m\u001b[43mnum_ligne_train\u001b[49m\u001b[43m,\u001b[49m\u001b[43mk\u001b[49m\u001b[43m]\u001b[49m \u001b[38;5;241m-\u001b[39m test\u001b[38;5;241m.\u001b[39miloc[num_ligne_test,k] )\u001b[38;5;241m*\u001b[39m\u001b[38;5;241m*\u001b[39m\u001b[38;5;241m2\u001b[39m\n\u001b[1;32m      5\u001b[0m \u001b[38;5;28;01mreturn\u001b[39;00m np\u001b[38;5;241m.\u001b[39msqrt(distance)\n",
      "File \u001b[0;32m/Library/Frameworks/Python.framework/Versions/3.12/lib/python3.12/site-packages/pandas/core/indexing.py:1182\u001b[0m, in \u001b[0;36m_LocationIndexer.__getitem__\u001b[0;34m(self, key)\u001b[0m\n\u001b[1;32m   1180\u001b[0m key \u001b[38;5;241m=\u001b[39m \u001b[38;5;28mtuple\u001b[39m(\u001b[38;5;28mlist\u001b[39m(x) \u001b[38;5;28;01mif\u001b[39;00m is_iterator(x) \u001b[38;5;28;01melse\u001b[39;00m x \u001b[38;5;28;01mfor\u001b[39;00m x \u001b[38;5;129;01min\u001b[39;00m key)\n\u001b[1;32m   1181\u001b[0m key \u001b[38;5;241m=\u001b[39m \u001b[38;5;28mtuple\u001b[39m(com\u001b[38;5;241m.\u001b[39mapply_if_callable(x, \u001b[38;5;28mself\u001b[39m\u001b[38;5;241m.\u001b[39mobj) \u001b[38;5;28;01mfor\u001b[39;00m x \u001b[38;5;129;01min\u001b[39;00m key)\n\u001b[0;32m-> 1182\u001b[0m \u001b[38;5;28;01mif\u001b[39;00m \u001b[38;5;28;43mself\u001b[39;49m\u001b[38;5;241;43m.\u001b[39;49m\u001b[43m_is_scalar_access\u001b[49m\u001b[43m(\u001b[49m\u001b[43mkey\u001b[49m\u001b[43m)\u001b[49m:\n\u001b[1;32m   1183\u001b[0m     \u001b[38;5;28;01mreturn\u001b[39;00m \u001b[38;5;28mself\u001b[39m\u001b[38;5;241m.\u001b[39mobj\u001b[38;5;241m.\u001b[39m_get_value(\u001b[38;5;241m*\u001b[39mkey, takeable\u001b[38;5;241m=\u001b[39m\u001b[38;5;28mself\u001b[39m\u001b[38;5;241m.\u001b[39m_takeable)\n\u001b[1;32m   1184\u001b[0m \u001b[38;5;28;01mreturn\u001b[39;00m \u001b[38;5;28mself\u001b[39m\u001b[38;5;241m.\u001b[39m_getitem_tuple(key)\n",
      "File \u001b[0;32m/Library/Frameworks/Python.framework/Versions/3.12/lib/python3.12/site-packages/pandas/core/indexing.py:1665\u001b[0m, in \u001b[0;36m_iLocIndexer._is_scalar_access\u001b[0;34m(self, key)\u001b[0m\n\u001b[1;32m   1662\u001b[0m \u001b[38;5;28;01mif\u001b[39;00m \u001b[38;5;28mlen\u001b[39m(key) \u001b[38;5;241m!=\u001b[39m \u001b[38;5;28mself\u001b[39m\u001b[38;5;241m.\u001b[39mndim:\n\u001b[1;32m   1663\u001b[0m     \u001b[38;5;28;01mreturn\u001b[39;00m \u001b[38;5;28;01mFalse\u001b[39;00m\n\u001b[0;32m-> 1665\u001b[0m \u001b[38;5;28;01mreturn\u001b[39;00m \u001b[38;5;28;43mall\u001b[39;49m\u001b[43m(\u001b[49m\u001b[43mis_integer\u001b[49m\u001b[43m(\u001b[49m\u001b[43mk\u001b[49m\u001b[43m)\u001b[49m\u001b[43m \u001b[49m\u001b[38;5;28;43;01mfor\u001b[39;49;00m\u001b[43m \u001b[49m\u001b[43mk\u001b[49m\u001b[43m \u001b[49m\u001b[38;5;129;43;01min\u001b[39;49;00m\u001b[43m \u001b[49m\u001b[43mkey\u001b[49m\u001b[43m)\u001b[49m\n",
      "File \u001b[0;32m/Library/Frameworks/Python.framework/Versions/3.12/lib/python3.12/site-packages/pandas/core/indexing.py:1665\u001b[0m, in \u001b[0;36m<genexpr>\u001b[0;34m(.0)\u001b[0m\n\u001b[1;32m   1662\u001b[0m \u001b[38;5;28;01mif\u001b[39;00m \u001b[38;5;28mlen\u001b[39m(key) \u001b[38;5;241m!=\u001b[39m \u001b[38;5;28mself\u001b[39m\u001b[38;5;241m.\u001b[39mndim:\n\u001b[1;32m   1663\u001b[0m     \u001b[38;5;28;01mreturn\u001b[39;00m \u001b[38;5;28;01mFalse\u001b[39;00m\n\u001b[0;32m-> 1665\u001b[0m \u001b[38;5;28;01mreturn\u001b[39;00m \u001b[38;5;28mall\u001b[39m(is_integer(k) \u001b[38;5;28;01mfor\u001b[39;00m k \u001b[38;5;129;01min\u001b[39;00m key)\n",
      "\u001b[0;31mKeyboardInterrupt\u001b[0m: "
     ]
    }
   ],
   "source": [
    "K_NN=int(np.sqrt(len(train)))\n",
    "\n",
    "compte_juste=0\n",
    "compte=0\n",
    "\n",
    "for k in range(len(test)):\n",
    "    \n",
    "    list_distance=[]\n",
    "    for i in range(len(train)):\n",
    "        list_distance+=[[distance(i,k),train.iloc[i,280]]]\n",
    "    list_distance.sort(key=lambda x:x[0])\n",
    "            \n",
    "    list_class=[]\n",
    "    for j in range(K_NN):\n",
    "        list_class+=[list_distance[j][1]]\n",
    "    element_plus_frequent = max(list_class, key=list_class.count)\n",
    "    \n",
    "    compte+=1\n",
    "    if test.iloc[k,280]==element_plus_frequent:\n",
    "        compte_juste+=1\n",
    "    \n",
    "    print(test.iloc[k,280],element_plus_frequent )\n",
    "    print(compte_juste/compte)\n",
    "\n"
   ]
  }
 ],
 "metadata": {
  "kernelspec": {
   "display_name": "Python 3",
   "language": "python",
   "name": "python3"
  },
  "language_info": {
   "codemirror_mode": {
    "name": "ipython",
    "version": 3
   },
   "file_extension": ".py",
   "mimetype": "text/x-python",
   "name": "python",
   "nbconvert_exporter": "python",
   "pygments_lexer": "ipython3",
   "version": "3.12.5"
  }
 },
 "nbformat": 4,
 "nbformat_minor": 2
}
