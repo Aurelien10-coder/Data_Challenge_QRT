{
 "cells": [
  {
   "cell_type": "code",
   "execution_count": 14,
   "metadata": {},
   "outputs": [],
   "source": [
    "import pandas as pd\n",
    "from sklearn.model_selection import train_test_split\n",
    "from sklearn.preprocessing import StandardScaler\n",
    "from sklearn.linear_model import LogisticRegression\n",
    "from sklearn.metrics import accuracy_score, classification_report, confusion_matrix\n",
    "import seaborn as sns\n",
    "\n",
    "pd.set_option('display.max_columns',None)"
   ]
  },
  {
   "cell_type": "code",
   "execution_count": 15,
   "metadata": {},
   "outputs": [],
   "source": [
    "df_home=pd.read_csv('/Users/aurelientarroux/Desktop/ML/Data_Challenge_QRT/Data/Train_Data/train_home_team_statistics_df.csv')\n",
    "df_away=pd.read_csv('/Users/aurelientarroux/Desktop/ML/Data_Challenge_QRT/Data/Train_Data/train_away_team_statistics_df.csv')\n",
    "\n",
    "df_home.columns='home_'+df_home.columns\n",
    "df_away.columns='away_'+df_away.columns\n",
    "\n",
    "df_result=pd.read_csv('/Users/aurelientarroux/Desktop/ML/Data_Challenge_QRT/Data/Y_train_1rknArQ.csv')\n"
   ]
  },
  {
   "cell_type": "code",
   "execution_count": 16,
   "metadata": {},
   "outputs": [],
   "source": [
    "base_match=pd.merge(df_home,df_away,left_on=\"home_ID\",right_on='away_ID',how='inner')\n",
    "base=pd.merge(base_match,df_result,left_on=\"home_ID\",right_on='ID',how='inner')\n",
    "base=base.drop(['home_ID','home_LEAGUE','home_TEAM_NAME','away_ID','away_LEAGUE','away_TEAM_NAME'],axis=1)\n"
   ]
  },
  {
   "cell_type": "code",
   "execution_count": 17,
   "metadata": {},
   "outputs": [
    {
     "name": "stdout",
     "output_type": "stream",
     "text": [
      "AWAY\n"
     ]
    }
   ],
   "source": [
    "def resultat(row):\n",
    "    if row['HOME_WINS']==1:\n",
    "        return 'HOME'\n",
    "    elif row['AWAY_WINS']==1:\n",
    "        return 'AWAY'\n",
    "    else:\n",
    "        return 'DRAW'\n",
    "\n",
    "base['Resultat']=base.apply(resultat, axis=1)\n",
    "print(resultat(base.iloc[0]))\n",
    "base=base.drop(['HOME_WINS','AWAY_WINS','DRAW'],axis=1)\n",
    "\n"
   ]
  },
  {
   "cell_type": "code",
   "execution_count": 18,
   "metadata": {},
   "outputs": [],
   "source": [
    "base.dropna(inplace=True)"
   ]
  },
  {
   "cell_type": "code",
   "execution_count": 19,
   "metadata": {},
   "outputs": [
    {
     "name": "stderr",
     "output_type": "stream",
     "text": [
      "/Library/Frameworks/Python.framework/Versions/3.12/lib/python3.12/site-packages/sklearn/linear_model/_logistic.py:1247: FutureWarning: 'multi_class' was deprecated in version 1.5 and will be removed in 1.7. From then on, it will always use 'multinomial'. Leave it to its default value to avoid this warning.\n",
      "  warnings.warn(\n"
     ]
    },
    {
     "name": "stdout",
     "output_type": "stream",
     "text": [
      "0.4960677555958863\n",
      "              precision    recall  f1-score   support\n",
      "\n",
      "        AWAY       0.49      0.47      0.48       520\n",
      "        DRAW       0.30      0.14      0.19       416\n",
      "        HOME       0.54      0.72      0.62       717\n",
      "\n",
      "    accuracy                           0.50      1653\n",
      "   macro avg       0.44      0.44      0.43      1653\n",
      "weighted avg       0.46      0.50      0.47      1653\n",
      "\n",
      "[[243  70 207]\n",
      " [124  58 234]\n",
      " [132  66 519]]\n"
     ]
    }
   ],
   "source": [
    "X = base.drop(['Resultat','ID'],axis=1)\n",
    "y = base['Resultat']\n",
    "\n",
    "X_train, X_test, y_train, y_test = train_test_split(X, y, test_size=0.2, random_state=42)\n",
    "\n",
    "#Centre et réduit mes données\n",
    "scaler = StandardScaler()\n",
    "scaler.fit(X_train)\n",
    "X_train = scaler.transform(X_train)\n",
    "X_test = scaler.transform(X_test)\n",
    "\n",
    "#J'entraine mon modèle\n",
    "model = LogisticRegression(multi_class='multinomial', solver='lbfgs', max_iter=1000)  # 'ovr' pour One-vs-Rest, le paramètre par défaut\n",
    "model.fit(X_train, y_train)\n",
    "\n",
    "#Je prédis\n",
    "y_pred = model.predict(X_test)\n",
    "\n",
    "#Je regarde les résultat\n",
    "accuracy = accuracy_score(y_test, y_pred)\n",
    "print(accuracy)\n",
    "print(classification_report(y_test, y_pred)) \n",
    "print(confusion_matrix(y_test, y_pred))"
   ]
  },
  {
   "cell_type": "code",
   "execution_count": 20,
   "metadata": {},
   "outputs": [
    {
     "name": "stderr",
     "output_type": "stream",
     "text": [
      "/var/folders/lb/whddwtw56cx1mvwl0c2c3r7r0000gn/T/ipykernel_47463/334357936.py:6: FutureWarning: DataFrame.applymap has been deprecated. Use DataFrame.map instead.\n",
      "  coefficients.applymap(abs)\n"
     ]
    },
    {
     "data": {
      "text/html": [
       "<div>\n",
       "<style scoped>\n",
       "    .dataframe tbody tr th:only-of-type {\n",
       "        vertical-align: middle;\n",
       "    }\n",
       "\n",
       "    .dataframe tbody tr th {\n",
       "        vertical-align: top;\n",
       "    }\n",
       "\n",
       "    .dataframe thead th {\n",
       "        text-align: right;\n",
       "    }\n",
       "</style>\n",
       "<table border=\"1\" class=\"dataframe\">\n",
       "  <thead>\n",
       "    <tr style=\"text-align: right;\">\n",
       "      <th></th>\n",
       "      <th>0</th>\n",
       "    </tr>\n",
       "  </thead>\n",
       "  <tbody>\n",
       "    <tr>\n",
       "      <th>away_TEAM_PENALTIES_season_sum</th>\n",
       "      <td>3.297362e-14</td>\n",
       "    </tr>\n",
       "    <tr>\n",
       "      <th>away_TEAM_SHOTS_OFF_TARGET_5_last_match_average</th>\n",
       "      <td>3.050338e-14</td>\n",
       "    </tr>\n",
       "    <tr>\n",
       "      <th>home_TEAM_BALL_SAFE_5_last_match_average</th>\n",
       "      <td>2.796374e-14</td>\n",
       "    </tr>\n",
       "    <tr>\n",
       "      <th>home_TEAM_SHOTS_OUTSIDEBOX_5_last_match_average</th>\n",
       "      <td>2.442491e-14</td>\n",
       "    </tr>\n",
       "    <tr>\n",
       "      <th>home_TEAM_GOALS_season_average</th>\n",
       "      <td>2.398082e-14</td>\n",
       "    </tr>\n",
       "    <tr>\n",
       "      <th>...</th>\n",
       "      <td>...</td>\n",
       "    </tr>\n",
       "    <tr>\n",
       "      <th>away_TEAM_PENALTIES_season_average</th>\n",
       "      <td>-1.981748e-14</td>\n",
       "    </tr>\n",
       "    <tr>\n",
       "      <th>home_TEAM_SHOTS_OFF_TARGET_5_last_match_sum</th>\n",
       "      <td>-2.003953e-14</td>\n",
       "    </tr>\n",
       "    <tr>\n",
       "      <th>home_TEAM_SAVES_5_last_match_sum</th>\n",
       "      <td>-2.492451e-14</td>\n",
       "    </tr>\n",
       "    <tr>\n",
       "      <th>away_TEAM_SHOTS_TOTAL_5_last_match_sum</th>\n",
       "      <td>-3.183565e-14</td>\n",
       "    </tr>\n",
       "    <tr>\n",
       "      <th>away_TEAM_SHOTS_ON_TARGET_5_last_match_sum</th>\n",
       "      <td>-4.152234e-14</td>\n",
       "    </tr>\n",
       "  </tbody>\n",
       "</table>\n",
       "<p>280 rows × 1 columns</p>\n",
       "</div>"
      ],
      "text/plain": [
       "                                                            0\n",
       "away_TEAM_PENALTIES_season_sum                   3.297362e-14\n",
       "away_TEAM_SHOTS_OFF_TARGET_5_last_match_average  3.050338e-14\n",
       "home_TEAM_BALL_SAFE_5_last_match_average         2.796374e-14\n",
       "home_TEAM_SHOTS_OUTSIDEBOX_5_last_match_average  2.442491e-14\n",
       "home_TEAM_GOALS_season_average                   2.398082e-14\n",
       "...                                                       ...\n",
       "away_TEAM_PENALTIES_season_average              -1.981748e-14\n",
       "home_TEAM_SHOTS_OFF_TARGET_5_last_match_sum     -2.003953e-14\n",
       "home_TEAM_SAVES_5_last_match_sum                -2.492451e-14\n",
       "away_TEAM_SHOTS_TOTAL_5_last_match_sum          -3.183565e-14\n",
       "away_TEAM_SHOTS_ON_TARGET_5_last_match_sum      -4.152234e-14\n",
       "\n",
       "[280 rows x 1 columns]"
      ]
     },
     "execution_count": 20,
     "metadata": {},
     "output_type": "execute_result"
    }
   ],
   "source": [
    "#Je ne sais pas torp à quoi ça correspond ?\n",
    "coefficients=model.coef_\n",
    "coefficients=pd.DataFrame(coefficients)\n",
    "coefficients.columns=X.columns\n",
    "\n",
    "coefficients.applymap(abs)\n",
    "coefficients=pd.DataFrame(coefficients.sum(axis=0))\n",
    "coefficients.sort_values(by=0,ascending=False)"
   ]
  },
  {
   "cell_type": "code",
   "execution_count": 21,
   "metadata": {},
   "outputs": [
    {
     "name": "stderr",
     "output_type": "stream",
     "text": [
      "/Library/Frameworks/Python.framework/Versions/3.12/lib/python3.12/site-packages/sklearn/base.py:486: UserWarning: X has feature names, but LogisticRegression was fitted without feature names\n",
      "  warnings.warn(\n"
     ]
    },
    {
     "data": {
      "text/plain": [
       "<Axes: ylabel='Count'>"
      ]
     },
     "execution_count": 21,
     "metadata": {},
     "output_type": "execute_result"
    },
    {
     "data": {
      "image/png": "[encoded data removed]",
      "text/plain": [
       "<Figure size 640x480 with 1 Axes>"
      ]
     },
     "metadata": {},
     "output_type": "display_data"
    }
   ],
   "source": [
    "#Proba pour chaque individus d'aprtenir aux classes\n",
    "\n",
    "proba_list = model.predict_proba(X)\n",
    "df_proba=pd.DataFrame(proba_list)\n",
    "\n",
    "sns.histplot(df_proba.max(axis=1))"
   ]
  }
 ],
 "metadata": {
  "kernelspec": {
   "display_name": "Python 3",
   "language": "python",
   "name": "python3"
  },
  "language_info": {
   "codemirror_mode": {
    "name": "ipython",
    "version": 3
   },
   "file_extension": ".py",
   "mimetype": "text/x-python",
   "name": "python",
   "nbconvert_exporter": "python",
   "pygments_lexer": "ipython3",
   "version": "3.12.5"
  }
 },
 "nbformat": 4,
 "nbformat_minor": 2
}
